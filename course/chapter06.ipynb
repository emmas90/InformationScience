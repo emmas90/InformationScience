{
 "metadata": {
  "language_info": {
   "codemirror_mode": {
    "name": "ipython",
    "version": 3
   },
   "file_extension": ".py",
   "mimetype": "text/x-python",
   "name": "python",
   "nbconvert_exporter": "python",
   "pygments_lexer": "ipython3",
   "version": "3.8.5-final"
  },
  "orig_nbformat": 2,
  "kernelspec": {
   "name": "python3",
   "display_name": "Python 3.8.5 64-bit",
   "metadata": {
    "interpreter": {
     "hash": "31f2aee4e71d21fbe5cf8b01ff0e069b9275f58929596ceb00d14d90e3e16cd6"
    }
   }
  }
 },
 "nbformat": 4,
 "nbformat_minor": 2,
 "cells": [
  {
   "cell_type": "markdown",
   "metadata": {},
   "source": [
    "# Chapter 6: Indexing"
   ]
  },
  {
   "source": [
    "![](images/tablet.jpg)\n",
    "\n",
    "__[Salamis tablet](https://en.wikipedia.org/wiki/Salamis_Tablet)__\n",
    "\n",
    "Credit: __[Wikimedia Commons](https://en.wikipedia.org/wiki/Salamis_Tablet#/media/File:Salaminische_Tafel_Salamis_Tablet_nach_Wilhelm_Kubitschek_Numismatische_Zeitschrift_Bd_31_Wien_1899_p._394_ff.jpg)__"
   ],
   "cell_type": "markdown",
   "metadata": {}
  },
  {
   "cell_type": "markdown",
   "metadata": {},
   "source": [
    "## Searching\n",
    "\n",
    "In all of our discussions about information we have so far neglected perhaps the most important aspect of it: **searching**. Indeed, you could say that the only difference between data and information, is that \"information is data that we are looking for\". Ergo, very simply said, working with information often boils down to \"searching stuff\". Whether it be metadata stored in databases (e.g. searching a library catalogue), text stored in documents (e.g. a full-text search-engine for a website) or even multimedia information retrieval.\n",
    "\n",
    "Searching and search optimization are a vast area of computer science distinct type of computational problem. For instance, Donald Knuth's monumental *The Art of Computer Programming* devotes an entire volume (i.e. vol. 3) to \"Sorting and Searching\". This means that we will only be able to briefly touch on the topic and, as always, from a very practical point of view.\n",
    "\n",
    "At face value searching might seem easy. Let's look at finding a substring in a string. In Python, for instance, offers several ways to check for this:"
   ]
  },
  {
   "cell_type": "code",
   "execution_count": 24,
   "metadata": {
    "tags": []
   },
   "outputs": [
    {
     "output_type": "stream",
     "name": "stdout",
     "text": [
      "Found!\nFound!\nFound!\n"
     ]
    }
   ],
   "source": [
    "MY_STRING = \"Hello world, this is me\"\n",
    "MY_SEARCH = \"me\"\n",
    "\n",
    "# one way\n",
    "if MY_SEARCH in MY_STRING:\n",
    "    print(\"Found!\")\n",
    "else:\n",
    "    print(\"Not found\")\n",
    "\n",
    "# another way\n",
    "if not MY_STRING.find(MY_SEARCH) == -1:\n",
    "    print(\"Found!\")\n",
    "else:\n",
    "    print(\"Not found!\")\n",
    "\n",
    "# third way\n",
    "from re import search\n",
    "if search(MY_SEARCH, MY_STRING):\n",
    "    print(\"Found!\")\n",
    "else:\n",
    "    print(\"Not found!\")\n"
   ]
  },
  {
   "cell_type": "markdown",
   "metadata": {},
   "source": [
    "However, search operations can soon become complicated and especially time-consuming. One crucial issue is the quantity of data we need to search. The above example could afford to use a string method to look for a literal string, but obviously this is not realistic when you are searching through millions of books (e.g. __[Google Books contains >40.000.000 books](https://en.wikipedia.org/wiki/Google_Books)__) or huge metadata containers (e.g. __[Spotify contains >50.000.000 songs](https://www.businessofapps.com/data/spotify-statistics/#:~:text=Source%3A%20Goodwater%20Capital-,Spotify%20Content%20Statistics,the%20largest%20music%20library%20available.)__)."
   ]
  },
  {
   "cell_type": "markdown",
   "metadata": {},
   "source": [
    "## Indexing\n",
    "\n",
    "One way to deal with his issue is **indexing**. Simply said, an index is a data structure that improves the speed of data retrieval operations at the cost of additional writes and storage space to maintain the index data structure. \n",
    "\n",
    "Consider the following example. Let's say we have a large list of book titles and want to search them for a specific term.\n",
    "\n",
    "Let's first use SQL and the STCV database from chapter 04 to make such a list."
   ]
  },
  {
   "cell_type": "code",
   "execution_count": 25,
   "metadata": {
    "tags": []
   },
   "outputs": [
    {
     "output_type": "stream",
     "name": "stdout",
     "text": [
      "26153 titles, e.g.:\n- Gheestelicken schat vande derde ordre S. Dominici\n- Het tweede deel der meditatien\n- Reghelen end oeffeninghen voor de gheestelycke dochters vanden H. Franciscus de Sales\n- Translaet van het reglement raeckende d'appellatien, oft ander belagh vande ordonnantien van commissarissen tot auditie, ende recoulement vande rekeninghen vande publicque lasten, ende penninghen\n- Decret rendu au conseil souverain de Brabant. Le 20 septembre 1791\n- Copye van den circulairen brief, gheschreven inghevolge de orders van sijne catholiecke majesteyt, door den secretaris van de universeele depesche, aen alle sijne ambassadeurs inde uyt-heemsche hoven\n- Nieuwe lijste van consumptie, [...] omme ghelicht ende ontfanghen te worden binnen den zeluen lande van Vlaendre: daermede te nieten ghedaen worden diuersche voorghaende lijsten\n- Missæ propriæ sanctorum ecclesiæ cathedralis, et diœcesis Antverpiensis\n- Maria Theresia [...]. Op de menighvuldige clachten [...] dat de heirbaenen, publiecke wegen, ende straeten in de seven quartieren van Antwerpen, ende in den byvanck van Lier soodaenigh verhindert, belemmert, ende buyten staet gestelt zijn, dat het [...] niet mogelijck en is [...] van d'eene plaetse tot d'andere te geraecken\n- Interpretation et esclaircissement de certaines dovbtes et difficultez qui se sont recontrées [!] en l'Ordonnance & edict perpetuel [...] du xij. de iuillet de cest an 1611\n"
     ]
    }
   ],
   "source": [
    "import sqlite3\n",
    "import os.path\n",
    "import random\n",
    "conn = sqlite3.connect(os.path.join('data', 'stcv.sqlite'))\n",
    "c = conn.cursor()\n",
    "query = \"select distinct title_ti from title\"\n",
    "c.execute(query)\n",
    "BOOK_TITLES = []\n",
    "for title in c.fetchall():\n",
    "    BOOK_TITLES.append(*title)  # * = unpacking the tuple `title`\n",
    "conn.close()\n",
    "# length of list\n",
    "length = len(BOOK_TITLES)\n",
    "print(length, \"titles, e.g.:\")\n",
    "# some examples\n",
    "for _ in range(0,10):\n",
    "    print(\"-\", BOOK_TITLES[random.randint(0, length)])\n"
   ]
  },
  {
   "cell_type": "markdown",
   "metadata": {},
   "source": [
    "Now let's consider the difference between searching for the word `English` with and without an index."
   ]
  },
  {
   "cell_type": "code",
   "execution_count": 26,
   "metadata": {
    "tags": []
   },
   "outputs": [
    {
     "output_type": "stream",
     "name": "stdout",
     "text": [
      "- English books to be sold by auction Catalogue d'une tres-belle collection de livres en tous genres et langages [...] dont la vente se fera en argent de change, jeudi 18 Frimaire an 11, 9 decembre 1802, et jours suivans, chez Jacques Laureys au Marché aux herbes à Malines\n- A new pocket dictionary and vocabulary of the Flemish, English and French languages\n- A daily exercise, and devotions, for the young ladies, and gentlewomen pensioners at the monastery of the English canonesses regulars of the holy order of S. Augustin at Bruges\n- A brieff apologie, or defence of the catholike ecclesiastical hierarchie, & subordination in England, erected these later yeares by our holy father pope Clement the eyght; and impugned by certayne libels printed & published of late both in Latyn & English\n- An appendix to the Apologie, lately set forth, for defence of the hierarchie, and subordination of the English catholike church, impugned by certaine discontented priestes\n- A relation of the solemnetie wherewith the catholike princes K. Phillip the III. and quene Margaret were receyed in the English colledge of Valladolid the 22. of August. 1600\n- A restitvtion of decayed intelligence: in antiquities. Concerning the most noble and renovvmed English nation\n- Dottrina del ben morire. English\n- Oratio Petri Frarini quod male reformandae religionis nomine arma sumpserunt sectarii nostri temporis habita. English\nTrue\n"
     ]
    }
   ],
   "source": [
    "def split(to_split):\n",
    "    return to_split.split(' ')\n",
    "\n",
    "\n",
    "def make_word_index(corpus):\n",
    "    index = {}\n",
    "    for title in corpus:\n",
    "        words = split(title)\n",
    "        for word in words:\n",
    "            index.setdefault(word, [])\n",
    "            index[word].append(title)\n",
    "    return index\n",
    "\n",
    "def search_with_index(search_string, index):\n",
    "    return index[search_string]\n",
    "\n",
    "def search_without_index(search_string, list_to_search):\n",
    "    result = []\n",
    "    for title in list_to_search:\n",
    "        words = split(title)\n",
    "        if search_string in words:\n",
    "            result.append(title)\n",
    "    return result\n",
    "\n",
    "\n",
    "BOOK_TITLES_INDEX = make_word_index(BOOK_TITLES)\n",
    "result_no_index = search_without_index(\"English\", BOOK_TITLES)\n",
    "result_index = search_with_index(\"English\", BOOK_TITLES_INDEX)\n",
    "for item in result_index:\n",
    "    print(\"-\", item)\n",
    "print(result_no_index == result_index)\n"
   ]
  },
  {
   "cell_type": "markdown",
   "metadata": {},
   "source": [
    "Obviously, the results of searching with and without a word index are the same. But what about the efficiency of the search? For this we can use Jupyter's handy feature `%timeit`: "
   ]
  },
  {
   "cell_type": "code",
   "execution_count": 27,
   "metadata": {
    "tags": []
   },
   "outputs": [
    {
     "output_type": "stream",
     "name": "stdout",
     "text": [
      "127 ns ± 7.83 ns per loop (mean ± std. dev. of 7 runs, 10000000 loops each)\n",
      "49.9 ms ± 3.59 ms per loop (mean ± std. dev. of 7 runs, 10 loops each)\n"
     ]
    }
   ],
   "source": [
    "%timeit search_with_index(\"English\", BOOK_TITLES_INDEX)\n",
    "%timeit search_without_index(\"English\", BOOK_TITLES)\n"
   ]
  },
  {
   "cell_type": "markdown",
   "metadata": {},
   "source": [
    "The difference is as large as milliseconds versus nanoseconds! Remember, with STCV we are only searching about 26,000 titles, but consider searching a collection like the Library of Congress, which holds over 170 million items... \n",
    "\n",
    "And of course, our example was only a simple one where we built an index that allowed to connect a word with a title. Real-world applications will often build several indices, cross-indices, include variant forms and allow for all kinds of complex searches such as searching with Boolean operators, proximity search, etcetera.\n",
    "\n",
    "For instance, titles like \"The Art of Computer Programming\" and \"Zen and the Art of Motorcycle Maintanance\" could be turned into an AND-index like so:"
   ]
  },
  {
   "cell_type": "code",
   "execution_count": 28,
   "metadata": {
    "tags": []
   },
   "outputs": [
    {
     "output_type": "stream",
     "name": "stdout",
     "text": [
      "{\n    \"the\": {\n        \"art\": [\n            \"The Art of Computer Programming\",\n            \"Zen and the Art of Motorcycle Maintanance\"\n        ],\n        \"of\": [\n            \"The Art of Computer Programming\",\n            \"Zen and the Art of Motorcycle Maintanance\"\n        ],\n        \"computer\": [\n            \"The Art of Computer Programming\"\n        ],\n        \"programming\": [\n            \"The Art of Computer Programming\"\n        ],\n        \"zen\": [\n            \"Zen and the Art of Motorcycle Maintanance\"\n        ],\n        \"and\": [\n            \"Zen and the Art of Motorcycle Maintanance\"\n        ],\n        \"motorcycle\": [\n            \"Zen and the Art of Motorcycle Maintanance\"\n        ],\n        \"maintanance\": [\n            \"Zen and the Art of Motorcycle Maintanance\"\n        ]\n    },\n    \"art\": {\n        \"the\": [\n            \"The Art of Computer Programming\",\n            \"Zen and the Art of Motorcycle Maintanance\"\n        ],\n        \"of\": [\n            \"The Art of Computer Programming\",\n            \"Zen and the Art of Motorcycle Maintanance\"\n        ],\n        \"computer\": [\n            \"The Art of Computer Programming\"\n        ],\n        \"programming\": [\n            \"The Art of Computer Programming\"\n        ],\n        \"zen\": [\n            \"Zen and the Art of Motorcycle Maintanance\"\n        ],\n        \"and\": [\n            \"Zen and the Art of Motorcycle Maintanance\"\n        ],\n        \"motorcycle\": [\n            \"Zen and the Art of Motorcycle Maintanance\"\n        ],\n        \"maintanance\": [\n            \"Zen and the Art of Motorcycle Maintanance\"\n        ]\n    },\n    \"of\": {\n        \"the\": [\n            \"The Art of Computer Programming\",\n            \"Zen and the Art of Motorcycle Maintanance\"\n        ],\n        \"art\": [\n            \"The Art of Computer Programming\",\n            \"Zen and the Art of Motorcycle Maintanance\"\n        ],\n        \"computer\": [\n            \"The Art of Computer Programming\"\n        ],\n        \"programming\": [\n            \"The Art of Computer Programming\"\n        ],\n        \"zen\": [\n            \"Zen and the Art of Motorcycle Maintanance\"\n        ],\n        \"and\": [\n            \"Zen and the Art of Motorcycle Maintanance\"\n        ],\n        \"motorcycle\": [\n            \"Zen and the Art of Motorcycle Maintanance\"\n        ],\n        \"maintanance\": [\n            \"Zen and the Art of Motorcycle Maintanance\"\n        ]\n    },\n    \"computer\": {\n        \"the\": [\n            \"The Art of Computer Programming\"\n        ],\n        \"art\": [\n            \"The Art of Computer Programming\"\n        ],\n        \"of\": [\n            \"The Art of Computer Programming\"\n        ],\n        \"programming\": [\n            \"The Art of Computer Programming\"\n        ]\n    },\n    \"programming\": {\n        \"the\": [\n            \"The Art of Computer Programming\"\n        ],\n        \"art\": [\n            \"The Art of Computer Programming\"\n        ],\n        \"of\": [\n            \"The Art of Computer Programming\"\n        ],\n        \"computer\": [\n            \"The Art of Computer Programming\"\n        ]\n    },\n    \"zen\": {\n        \"and\": [\n            \"Zen and the Art of Motorcycle Maintanance\"\n        ],\n        \"the\": [\n            \"Zen and the Art of Motorcycle Maintanance\"\n        ],\n        \"art\": [\n            \"Zen and the Art of Motorcycle Maintanance\"\n        ],\n        \"of\": [\n            \"Zen and the Art of Motorcycle Maintanance\"\n        ],\n        \"motorcycle\": [\n            \"Zen and the Art of Motorcycle Maintanance\"\n        ],\n        \"maintanance\": [\n            \"Zen and the Art of Motorcycle Maintanance\"\n        ]\n    },\n    \"and\": {\n        \"zen\": [\n            \"Zen and the Art of Motorcycle Maintanance\"\n        ],\n        \"the\": [\n            \"Zen and the Art of Motorcycle Maintanance\"\n        ],\n        \"art\": [\n            \"Zen and the Art of Motorcycle Maintanance\"\n        ],\n        \"of\": [\n            \"Zen and the Art of Motorcycle Maintanance\"\n        ],\n        \"motorcycle\": [\n            \"Zen and the Art of Motorcycle Maintanance\"\n        ],\n        \"maintanance\": [\n            \"Zen and the Art of Motorcycle Maintanance\"\n        ]\n    },\n    \"motorcycle\": {\n        \"zen\": [\n            \"Zen and the Art of Motorcycle Maintanance\"\n        ],\n        \"and\": [\n            \"Zen and the Art of Motorcycle Maintanance\"\n        ],\n        \"the\": [\n            \"Zen and the Art of Motorcycle Maintanance\"\n        ],\n        \"art\": [\n            \"Zen and the Art of Motorcycle Maintanance\"\n        ],\n        \"of\": [\n            \"Zen and the Art of Motorcycle Maintanance\"\n        ],\n        \"maintanance\": [\n            \"Zen and the Art of Motorcycle Maintanance\"\n        ]\n    },\n    \"maintanance\": {\n        \"zen\": [\n            \"Zen and the Art of Motorcycle Maintanance\"\n        ],\n        \"and\": [\n            \"Zen and the Art of Motorcycle Maintanance\"\n        ],\n        \"the\": [\n            \"Zen and the Art of Motorcycle Maintanance\"\n        ],\n        \"art\": [\n            \"Zen and the Art of Motorcycle Maintanance\"\n        ],\n        \"of\": [\n            \"Zen and the Art of Motorcycle Maintanance\"\n        ],\n        \"motorcycle\": [\n            \"Zen and the Art of Motorcycle Maintanance\"\n        ]\n    }\n}\n"
     ]
    }
   ],
   "source": [
    "import json\n",
    "TITLES = [\"The Art of Computer Programming\", \"Zen and the Art of Motorcycle Maintanance\"]\n",
    "index = {}\n",
    "for title in TITLES:\n",
    "    clean_title = title.casefold()\n",
    "    words = clean_title.split(' ')\n",
    "    for word in words:\n",
    "        if not word in index:\n",
    "            index[word] = {}\n",
    "        for next_word in words:\n",
    "            if not next_word == word:\n",
    "                if not next_word in index[word]:\n",
    "                    index[word][next_word] = [title]\n",
    "                else:\n",
    "                    index[word][next_word].append(title)\n",
    "print(json.dumps(index, indent=4))\n"
   ]
  },
  {
   "cell_type": "markdown",
   "metadata": {},
   "source": [
    "In this way, searching with `AND` becomes easy in this index, e.g. books that combine \"art\" and \"computer\":"
   ]
  },
  {
   "cell_type": "code",
   "execution_count": 29,
   "metadata": {
    "tags": []
   },
   "outputs": [
    {
     "output_type": "stream",
     "name": "stdout",
     "text": [
      "['The Art of Computer Programming']\n"
     ]
    }
   ],
   "source": [
    "print(index[\"art\"][\"computer\"])"
   ]
  },
  {
   "source": [
    "## Excursus: Bitmap indexing\n",
    "\n",
    "A lot more can be said about indexing. For one, you might wonder if indexing in itself might not lead to building overly large data structures that take up a lot of space and memory. As was clear from the above example of a combined index, indexing can quickly escalate.\n",
    "\n",
    "One interesting technique to avoid such problems is bitmap indexing. __[Wikipedia](https://en.wikipedia.org/wiki/Bitmap)__ says:\n",
    "\n",
    "> In computing, a bitmap is a mapping from some domain (for example, a range of integers) to bits\n",
    "\n",
    "Let's say you are a pen factory and have produced 10,000,000 pens of a certain type. Now you want to keep track of which pens have been sold by recording their serial numbers. For instance:"
   ],
   "cell_type": "markdown",
   "metadata": {}
  },
  {
   "cell_type": "code",
   "execution_count": 30,
   "metadata": {
    "tags": []
   },
   "outputs": [
    {
     "output_type": "stream",
     "name": "stdout",
     "text": [
      "67 bytes\n"
     ]
    }
   ],
   "source": [
    "from sys import getsizeof\n",
    "import array\n",
    "\n",
    "# using arrays which is more memory-efficient than lists\n",
    "# https://docs.python.org/3/library/array.html\n",
    "pens_sold = array.array('B', [1, 5, 10])\n",
    "print(getsizeof(pens_sold), 'bytes')\n"
   ]
  },
  {
   "source": [
    "So you need 67 bytes to store this information as a Python array. By the time all pens have been sold the list will be this large:"
   ],
   "cell_type": "markdown",
   "metadata": {}
  },
  {
   "cell_type": "code",
   "execution_count": 31,
   "metadata": {
    "tags": []
   },
   "outputs": [
    {
     "output_type": "stream",
     "name": "stdout",
     "text": [
      "76.29399900576193 megabytes\n"
     ]
    }
   ],
   "source": [
    "all_pens_sold = array.array('L', [i for i in range(1,10000000)])\n",
    "# converting bytes to megabytes\n",
    "size = getsizeof(all_pens_sold) * 0.00000095367432\n",
    "print(size, 'megabytes')"
   ]
  },
  {
   "source": [
    "\n",
    "So you see, things can get out of hand quickly. But if you use a bitmapping system, the overhead is radically different:"
   ],
   "cell_type": "markdown",
   "metadata": {}
  },
  {
   "cell_type": "code",
   "execution_count": 32,
   "metadata": {
    "tags": []
   },
   "outputs": [
    {
     "output_type": "stream",
     "name": "stdout",
     "text": [
      "74 bytes\n",
      "9.536803281482161 megabytes\n"
     ]
    }
   ],
   "source": [
    "# Setting a bit array here with array (https://docs.python.org/3/library/array.html)\n",
    "# in real applications you should use https://pypi.org/project/bitmap/\n",
    "\n",
    "import array\n",
    "\n",
    "# a bit array of unsigned ints with bits 1, 5 and 10 set to 1 (= pens sold)\n",
    "pens_sold = array.array('B', [0b1, 0b0, 0b0, 0b0, 0b1, 0b0, 0b0, 0b0, 0b0, 0b1])\n",
    "print(getsizeof(pens_sold), 'bytes')\n",
    "\n",
    "bitmap_of_all_pens_sold = array.array('B', [0b1 for i in range(1,10000000)])\n",
    "size = getsizeof(bitmap_of_all_pens_sold) * 0.00000095367432\n",
    "print(size, 'megabytes')\n"
   ]
  },
  {
   "cell_type": "markdown",
   "metadata": {},
   "source": [
    "## Lucene\n",
    "\n",
    "The leading software for indexing and searching text is definitely __[Lucene](https://lucene.apache.org/)__. However, Lucene is a Java library, which is not easy to implement (especially crossplatform as would be the case in this course). \n",
    "\n",
    "There is a Python extension for accessing Java Lucene, called __[PyLucene](https://lucene.apache.org/pylucene/)__. Its goal is to allow you to use Lucene's text indexing and searching capabilities from Python. Still, PyLucene is not a Lucene **port** but a Python **wrapper** around Java Lucene. PyLucene embeds a Java VM with Lucene into a Python process. This means that you still need Java Lucene to run PyLucene, and some additional tools (GNU `Make`, a C++ compiler, ...).\n",
    "\n"
   ]
  },
  {
   "cell_type": "markdown",
   "metadata": {},
   "source": [
    "## Whoosh\n",
    "\n",
    "As text indexing/searching is bound to be really slow in Python (so it make good sense to stick to Java Lucene) there is no true pure-Python alternative to Lucene. However, there are some libraries that allow you to experiment with similar indexing/searching software.\n",
    "\n",
    "One of these is __[Whoosh](https://whoosh.readthedocs.io/en/latest/index.html)__, which is unfortunately no longer maintained. Still, the latest version, 2.7.4, is quite stable and still works fine for Python 3. It can easily be installed through `pip install Whoosh`.\n",
    "\n",
    "In the [Whoosh introduction](https://whoosh.readthedocs.io/en/latest/intro.html) we read:\n",
    "\n",
    "> **About Whoosh**\n",
    ">- Whoosh is fast, but uses only pure Python, so it will run anywhere Python runs, without requiring a compiler.\n",
    ">- Whoosh creates fairly small indexes compared to many other search libraries.\n",
    ">- All indexed text in Whoosh must be unicode.\n",
    "\n",
    "> **What is Woosh**\n",
    "\n",
    ">Whoosh is a fast, pure Python search engine library.\n",
    "\n",
    ">The primary design impetus of Whoosh is that it is pure Python. You should be able to use Whoosh anywhere you can use Python, no compiler or Java required.\n",
    "\n",
    ">Like one of its ancestors, Lucene, Whoosh is not really a search engine, it’s a programmer library for creating a search engine.\n",
    "\n",
    ">Practically no important behavior of Whoosh is hard-coded. Indexing of text, the level of information stored for each term in each field, parsing of search queries, the types of queries allowed, scoring algorithms, etc. are all customizable, replaceable, and extensible.\n",
    "\n",
    "Indeed, Whoosh is quite similar to Lucene, including its query language. It lets you connect terms with `AND` or `OR`, eliminate terms with `NOT`, group terms together into clauses with parentheses, do range, prefix, and wilcard queries, and specify different fields to search. \n",
    "\n",
    "The following code shows you how to create and search a basic Whoosh index. For more information, see the [Whoosh quick start](https://whoosh.readthedocs.io/en/latest/quickstart.html) and documentation on the [query language](https://whoosh.readthedocs.io/en/latest/querylang.html).\n"
   ]
  },
  {
   "cell_type": "code",
   "execution_count": 33,
   "metadata": {
    "tags": []
   },
   "outputs": [
    {
     "output_type": "stream",
     "name": "stdout",
     "text": [
      "<Top 2 Results for Term('content', 'smattering') runtime=0.0008145450001393328>\nThackeray_Barry.txt\nFielding_Joseph.txt\n"
     ]
    }
   ],
   "source": [
    "\"\"\"\n",
    "Whoosh quick start\n",
    "https://whoosh.readthedocs.io/en/latest/quickstart.html\n",
    "\"\"\"\n",
    "\n",
    "import os\n",
    "\n",
    "from whoosh import highlight\n",
    "from whoosh.index import create_in\n",
    "from whoosh.fields import Schema, ID, TEXT\n",
    "from whoosh.qparser import QueryParser\n",
    "from whoosh.query import *\n",
    "\n",
    "# Create schema\n",
    "\"\"\"\n",
    "To begin using Whoosh, you need an index object. The first time you create\n",
    "an index, you must define the index’s schema. The schema lists the fields in\n",
    "the index. A field is a piece of information for each document in the index,\n",
    "such as its title or text content. A field can be indexed (meaning it can be\n",
    "searched) and/or stored (meaning the value that gets indexed is returned with\n",
    "the results; this is useful for fields such as the title).\n",
    "\"\"\"\n",
    "\n",
    "schema = Schema(title=TEXT(stored=True), content=TEXT(stored=True),\n",
    "                path=ID(stored=True))\n",
    "\n",
    "# Create index\n",
    "\"\"\"\n",
    "Once you have the schema, you can create an index.\n",
    "At a low level, this creates a Storage object to contains the index.\n",
    "A Storage object represents that medium in which the index will be stored.\n",
    "Usually this will be FileStorage, which stores the index as a set of files\n",
    "in a directory.\n",
    "\"\"\"\n",
    "\n",
    "if not os.path.exists(\"index\"):\n",
    "    os.mkdir(\"index\")\n",
    "my_index = create_in(\"index\", schema)\n",
    "\n",
    "# Add documents\n",
    "\"\"\"\n",
    "OK, so we’ve got an Index object, now we can start adding documents.\n",
    "The writer() method of the Index object returns an IndexWriter object that\n",
    "lets you add documents to the index. The IndexWriter’s add_document\n",
    "method accepts keyword arguments where the field name is mapped to a value.\n",
    "Once you have finished with the writer, you need to commit it.\n",
    "\n",
    "The documents we add, a small corpus of British fiction, are part of\n",
    "the course repo.\n",
    "\"\"\"\n",
    "\n",
    "OS_SEP = os.sep  # take care, different OS use different filepath separators!\n",
    "\n",
    "writer = my_index.writer()\n",
    "\n",
    "# Corpus courtesy of Maciej Eder (http://maciejeder.org/)\n",
    "for document in os.listdir(\"corpus_of_british_fiction\"):\n",
    "    with open(\"corpus_of_british_fiction\" + OS_SEP + document, 'r') as text:\n",
    "        writer.add_document(title=document, content=str(text.read()),\n",
    "                                       path=document)\n",
    "writer.commit()\n",
    "\n",
    "\n",
    "# Parse a query string\n",
    "\"\"\"\n",
    "Woosh's Searcher (cf. infra) takes a Query object. You can construct query\n",
    "objects directly or use a query parser to parse a query string.\n",
    "To parse a query string, you can use the default query parser in the qparser\n",
    "module. The first argument to the QueryParser constructor is the default field\n",
    "to search. This is usually the \"body text\" field. The second (optional) argument\n",
    "is a schema to use to understand how to parse the fields. The argument of\n",
    "the .parse() method is a query in Whoosh query language (similar to Lucene):\n",
    "https://whoosh.readthedocs.io/en/latest/querylang.html\n",
    "\"\"\"\n",
    "\n",
    "myquery = QueryParser(\"content\", my_index.schema).parse('smattering')\n",
    "# compare results for:\n",
    "# myquery = QueryParser(\"content\", my_index.schema).parse('smattering in surgery')\n",
    "# myquery = QueryParser(\"content\", my_index.schema).parse('smattering NOT surgery')\n",
    "\n",
    "\n",
    "# Search documents\n",
    "\"\"\"\n",
    "Once you have a Searcher and a query object, you can use the Searcher's\n",
    "search() method to run the query and get a Results object.\n",
    "You can use the highlights() method on the whoosh.searching.Hit object\n",
    "to get highlighted snippets from the document containing the search terms.\n",
    "To limit the text displayed, you use a Fragmenter. More information at:\n",
    "https://whoosh.readthedocs.io/en/latest/searching.html\n",
    "\"\"\"\n",
    "with my_index.searcher() as searcher:\n",
    "    # Search\n",
    "    # limit=None -> search all documents in index\n",
    "    results = searcher.search(myquery, limit=None)\n",
    "    print(results)\n",
    "    # Print paths that match\n",
    "    for hit in results:\n",
    "        print(hit[\"path\"])"
   ]
  },
  {
   "cell_type": "code",
   "execution_count": 34,
   "metadata": {},
   "outputs": [
    {
     "output_type": "stream",
     "name": "stdout",
     "text": [
      "1 Thackeray_Barry.txt = and customs,\n",
      "\n",
      "\tand a <b class=\"match term0\">smattering</b> of the language...that he had no <b class=\"match term0\">smattering</b> of\n",
      "\n",
      "\tchemistry...of tune. She had a <b class=\"match term0\">smattering</b> of half-\n",
      "\n",
      "\ta-dozen\n",
      "2 Fielding_Joseph.txt = and politics, hath a\n",
      "\n",
      "\t<b class=\"match term0\">smattering</b> in law and divinity...the gentleman.--\"A\n",
      "\n",
      "\t<b class=\"match term0\">smattering</b>--ho, ho, ho!\" said...I believe it is a\n",
      "\n",
      "\t<b class=\"match term0\">smattering</b> indeed.\"\n",
      "\n",
      "\tThe company\n"
     ]
    }
   ],
   "source": [
    "with my_index.searcher() as searcher:\n",
    "    results = searcher.search(myquery, limit=None)\n",
    "    # Print examples of matching text with highlights and fragmenter\n",
    "    # Use (default) context fragmenter\n",
    "    # https://whoosh.readthedocs.io/en/latest/highlight.html#the-character-limit\n",
    "    results.fragmenter = highlight.ContextFragmenter(charlimit=None)\n",
    "    for index, hit in enumerate(results):\n",
    "        print(index+1, hit[\"path\"], \"=\", hit.highlights(\"content\"))"
   ]
  },
  {
   "cell_type": "markdown",
   "metadata": {},
   "source": [
    "## Assignment: Morphology tool\n",
    "\n",
    "Use Whoosh to illustrate English morphology with examples from a given corpus. For instance, the rules of morphology dictate verbs can take different forms or be used to form nouns, adjectives and such, like:\n",
    "\n",
    "- `render`: 'renders', 'rendered', 'rendering'\n",
    "- `think`: 'thinks', 'thought', 'thinking', 'thinker', 'thinkers', 'thinkable'\n",
    "- `put`: 'puts', 'putting', 'putter'\n",
    "- `do`: 'does', 'did', 'done', 'doing', 'doings', 'doer', 'doers'\n",
    "\n",
    "Forms like `think`, `put` and `do` illustrate that you cannot approach this problem in a mechanical or brute-force way. It is not as simple as adding 'ed', 'ing', etcetera to the verbs. Sometimes consonants are doubled, sometimes the verb stem changes (in the case of strong verbs), and so on.\n",
    "\n",
    "Whoosh has a particular feature to deal with this. Look through the documentation and you'll find it easily.\n",
    "\n",
    "Use it to build a Python application that takes a word as input and returns a list of sentences from the British fiction corpus that contain this word to illustrate its usage. Think about building the index first, so you can then reuse it (without having to rebuild it) for additional searches.\n",
    "\n",
    "Also, try to display the results nicely, i.e. without the markup tags and whitespace (line breaks, etc.) we saw in the above example. Maybe you can even print the matched word in bold?"
   ]
  }
 ]
}