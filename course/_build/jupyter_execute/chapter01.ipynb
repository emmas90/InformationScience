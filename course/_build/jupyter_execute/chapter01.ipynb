{
 "cells": [
  {
   "cell_type": "markdown",
   "metadata": {},
   "source": [
    "# Chapter 1: Welcome"
   ]
  },
  {
   "cell_type": "markdown",
   "metadata": {},
   "source": [
    "![](images/data_to_conspiracy.jpg)\n",
    "\n",
    "Credit: unknown"
   ]
  },
  {
   "cell_type": "markdown",
   "metadata": {},
   "source": [
    "## Welcome\n",
    "\n",
    "Welcome to the course \"Information Science\" for the University of Antwerp __[Master of Linguistics](https://www.uantwerpen.be/en/study/programmes/all-programmes/digital-text-analysis/)__ (from 2021-2022 onwards: \"Master of Digital Text Analysis\")!"
   ]
  },
  {
   "cell_type": "markdown",
   "metadata": {},
   "source": [
    "## Who am I and why does that matter?\n",
    "\n",
    "### Who am I?\n",
    "\n",
    "My name is Tom Deneire, I hold a PhD in Classics from the Katholieke Universiteit Leuven (2009). \n",
    "\n",
    "From 2009-2013 I worked as a **postdoctoral researcher** (Neo-Latin Studies) and a visiting professor (Latin rhetoric and stylistics), focussing mainly on the interplay of Neo-Latin and the vernacular, literary theory and dabbling in (then emerging) Digital Humanities (see e.g. __[Deneire 2018](https://hdl.handle.net/10067/1535070151162165141)__).\n",
    "\n",
    "In 2013 I moved to the University Library of Antwerp as **Curator of the Special Collections**, where I became increasingly interested in library metadata and data science. I started studying  XML, SQL and Python, and using these digital tools to research and aggregate library metadata.\n",
    "\n",
    "In 2018 this lead to a switch from the Special Collections to the University Library's software department __[Anet](https://www.uantwerpen.be/nl/projecten/anet/)__, where I have been  working since then as a **software engineer** for __[Brocade Library Services](https://en.wikipedia.org/wiki/Brocade_Library_Services)__. My main languages are Python and especially __[MUMPS](https://en.wikipedia.org/wiki/MUMPS)__, the language for our database engine (GT.M, provided by __[YottaDB](https://yottadb.com/)__). My current project is a complete rewrite and integration of the library's double module for authority files. Occasionally, I also use SQL, Golang, PHP, Javascript and HTML/CSS. I use Linux as OS (esp. the __[Linux Mint](https://linuxmint.com/)__ distro).\n",
    "\n",
    "(More information about me and links at __[https://tomdeneire.github.io/](https://tomdeneire.github.io/)__).\n",
    "\n",
    "### Why does that matter?\n",
    "\n",
    "The above should make clear that I am not an expert in Information Science, nor a Computer Science major, nor have I been a professional developer for a long time. Indeed, at first I was not sure if I should really be teaching this course! So be warned that I will certainly not have all the answers in this course. On the other hand, my own profile is very kindred to that of my **intended audience**: humanities majors looking to acquire digital skills. I hope this common perspective will enable me to teach what such students need most from a vast field such as Information Science."
   ]
  },
  {
   "cell_type": "markdown",
   "metadata": {},
   "source": [
    "## Course contents and learning outcomes\n",
    "\n",
    "My specific profile also implies that this will not be a standard introduction to Information Science. If this is really what you are after, I think there is enough scholarly literature out there to get by. Instead what is offered here is a very hands-on introduction into library science and the technologies used in the field. Indeed, I am not exaggerating if I claim that in my professional activities developing library software, I will use each and every one of the topics dealt with in this course on an almost **daily basis**.\n",
    "\n",
    "The aim of this course is to provide you with enough theoretical knowledge and especially practical experience to use these technologies in the field."
   ]
  },
  {
   "cell_type": "markdown",
   "metadata": {},
   "source": [
    "## Technical setup\n",
    "\n",
    "I have prepared this course as a series of Jupyter Notebooks and published on the __[GitHub repo](https://github.com/TomDeneire/InformationScience)__ for this course. \n",
    "\n",
    "I have chosen Jupyter Notebooks because they offer a way to teach both in a classroom and online (should COVID-19 regulations prohibit live teaching). You can choose how you interact with these notebooks.\n",
    "\n",
    "To view the content **with code execution**, you can:\n",
    "\n",
    "1. use an editor with a Jupyter Notebook extension, such as __[VS Code](https://code.visualstudio.com/)__\n",
    "2. install __[Jupyter](https://jupyter.org/install)__ (Lab or Notebook) locally and open the notebooks in your browser\n",
    "\n",
    "If you don't want to install Jupyter on your machine, you can open the notebooks with __[Google Colab](https://colab.research.google.com/notebooks/)__, but executing the code isn't always guaranteed to work (because of missing third-party libraries and stack overflows in heavy data operations).\n",
    "\n",
    "To view the content **without code execution**, you can:\n",
    "\n",
    "1. read the notebooks in this __[GitHub repository](https://github.com/TomDeneire/InformationScience/tree/main/course)__\n",
    "2. read the notebooks as a Jupyter Book hosted on __[GitHub Pages](https://tomdeneire.github.io/InformationScience)__\n",
    "\n",
    "In order to obtain these course materials and to participate with the course, please do the following:\n",
    "\n",
    "1. fork this repo to your own GitHub account\n",
    "2. clone it to your local machine\n",
    "3. make and push changes \n",
    "\n",
    "The third step especially applies to the coding assignments (see below). By commiting and pushing your changes I will be able to see them by going through the different forks to my repo. And of course if you find errors in the other course materials or want to propose changes, you can also make pull requests.\n",
    "\n",
    "If you're unsure how to do all of this, this __[GitHub guide](https://guides.github.com/activities/forking/)__ will help. (Other interesting sources on Git are this __[Medium article](https://link.medium.com/w1ShAzxQE9)__ and Atlassian's __[tutorial](https://www.atlassian.com/git/tutorials/what-is-git)__). This __[Medium article](https://link.medium.com/NdBy7ILHIbb)__ contains even more references to cheatsheets, tutorials, etc.\n",
    "\n",
    "To be sure everyone is setup okay, please do the following:\n",
    "\n",
    "1. create a new folder \"assignments\"\n",
    "2. put some test code in there (e.g. \"test.py\"), commit and push these changes to your fork"
   ]
  },
  {
   "cell_type": "markdown",
   "metadata": {},
   "source": [
    "## Course and assignments\n",
    "\n",
    "During the academic year 2020-2021, the course will take place on Fridays, from 9h30 to 12h30, in room C.203, during weeks 9-13.\n",
    "\n",
    "Each course will feature about 1,5 to 2 hours of theory and about 1 hour of practice. Most courses will feature a **coding assignment**, which will be introduced and discussed during the practical part of the course. Students are expected to finish the assignments after hours. \n",
    "\n",
    "Model solutions for the assignments will be made available in the repository with a few weeks delay."
   ]
  },
  {
   "cell_type": "markdown",
   "metadata": {},
   "source": [
    "### !Covid-19 update (5 November 2020)\n",
    "\n",
    "The University of Antwerp has decided to switch to online teaching only, at least until 30 November. \n",
    "\n",
    "For this course this will be organized as follows:\n",
    "\n",
    "1. About one week before the course takes place, students will receive a Google Drive link where they can view a recording of the week's course (+/- 1 hour).\n",
    "2. Students watch the recording in their own time (+/- 1 hour) and also start implementing the coding assignment (+/- 0,5 hours).\n",
    "3. On Fridays, from 9h30 to 11h (+/- 1,5 hours) we will meet in a Jitsi meeting room (link will be emailed) to discuss the course recording and the coding assignment. This session will also be recorded and uploaded to Google Drive.\n",
    "\n",
    "I hope that this online method can provide the hands-on mix of theory and practice I had hoped to achieve in person, without putting any additional strain on the students.\n",
    "\n",
    "If there are any changes to this MO, I will let the students know ASAP.\n"
   ]
  },
  {
   "cell_type": "markdown",
   "metadata": {},
   "source": [
    "## Exam: Project assignment\n",
    "\n",
    "The aforementioned assignments lead up to a **project assignment** which will serve as the exam for this course. The project assignment will be introduced during the final course. The course coding assignments are not part of the course evaluation, but students who have succesfully completed the previous course assignments will be excellently prepared for submitting an adequate project assignment. Students will be required to finish the project in a certain timeframe."
   ]
  },
  {
   "cell_type": "markdown",
   "metadata": {},
   "source": [
    "## Things you might find interesting\n",
    "\n",
    "The following links are reading material *ad libitum*. While I certainly do not expect you to read them, you might find them interesting. In any case, I did! Please feel free to send me suggestions too!\n",
    "\n",
    "As a general note: you'll notice that I often refer to __[Medium](https://medium.com/)__, an online publishing platform for blogs dealing with just about anything. Medium lets you configure your interests so you get a personalized list of reading suggestions. Medium allows you to read upto 3 premium articles for free every month, but I find a paying membership more than worthwile.\n",
    "\n",
    "- Book recommendations for Python on __[Medium](https://towardsdatascience.com/python-books-you-must-read-in-2020-a0fc33798bb)__\n",
    "- A fantastic Python __[cheat sheet](https://gto76.github.io/python-cheatsheet/)__\n",
    "- A GitHub repo of __[free programming books](https://github.com/EbookFoundation/free-programming-books)__\n",
    "- __[Computational Humanities Research](https://discourse.computational-humanities-research.org/)__, a platform for discussion on digital humanities, where you can also ask help with technical questions (code, tools, ...)"
   ]
  },
  {
   "cell_type": "markdown",
   "metadata": {},
   "source": [
    "\n",
    "```{toctree}\n",
    ":hidden:\n",
    ":titlesonly:\n",
    "\n",
    "\n",
    "chapter02\n",
    "chapter03\n",
    "chapter04\n",
    "chapter05\n",
    "chapter06\n",
    "chapter07\n",
    "chapter08\n",
    "coursedetails\n",
    "project\n",
    "```\n"
   ]
  }
 ],
 "metadata": {
  "kernelspec": {
   "display_name": "Python 3.8.5 64-bit",
   "metadata": {
    "interpreter": {
     "hash": "31f2aee4e71d21fbe5cf8b01ff0e069b9275f58929596ceb00d14d90e3e16cd6"
    }
   },
   "name": "python3"
  },
  "language_info": {
   "codemirror_mode": {
    "name": "ipython",
    "version": 3
   },
   "file_extension": ".py",
   "mimetype": "text/x-python",
   "name": "python",
   "nbconvert_exporter": "python",
   "pygments_lexer": "ipython3",
   "version": "3.8.5-final"
  }
 },
 "nbformat": 4,
 "nbformat_minor": 4
}